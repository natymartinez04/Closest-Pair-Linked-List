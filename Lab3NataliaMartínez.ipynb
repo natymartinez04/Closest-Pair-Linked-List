{
  "nbformat": 4,
  "nbformat_minor": 0,
  "metadata": {
    "colab": {
      "provenance": []
    },
    "kernelspec": {
      "name": "python3",
      "display_name": "Python 3"
    },
    "language_info": {
      "name": "python"
    }
  },
  "cells": [
    {
      "cell_type": "code",
      "source": [
        "# imports the needed methods from numerical python and matplotlib library\n",
        "from numpy import loadtxt\n",
        "from matplotlib import pyplot as plt\n",
        "\n",
        "# unpacks the input size, the number of comparisons, and the elapsed time\n",
        "size, comps, etime = loadtxt(\"dataDivideAndConquer.txt\").T\n",
        "\n",
        "from google.colab import drive\n",
        "drive.mount('/content/drive')\n",
        "\"\"\" visualization \"\"\"\n",
        "# closes all files and enables interactive plotting\n",
        "plt.close('all')\n",
        "plt.ion()\n",
        "# creates a figure and a set of axes\n",
        "fig, ax = plt.subplots()\n",
        "# computes scaling constants to improve presentation\n",
        "c1 = (size).mean() / comps.mean()\n",
        "c2 = (size).mean() / etime.mean()\n",
        "# plots the expected (theoretical) time as a function of size\n",
        "ax.loglog(size, size,    color='black', linestyle='--',\n",
        "          label='quadratic')\n",
        "# plots the elapsed time as a function of size\n",
        "ax.loglog(size, etime*c2, color='black',  linestyle='', marker='o',\n",
        "          markersize=12, label='elapsed-time')\n",
        "# plots the number of comparisons as a function of size\n",
        "ax.loglog(size, comps*c1, color='red',   linestyle='', marker='*',\n",
        "          markersize=12, label='comparisons')\n",
        "ax.set_xlabel('input size, N')\n",
        "ax.set_ylabel('time, t')\n",
        "ax.set_title('Divide and Conquer')\n",
        "ax.legend()\n",
        "# exports the figure in PNG with a resolution of 600 DPI\n",
        "fig.savefig(\"DivideAndConquer.png\", dpi=600)\n",
        "\n"
      ],
      "metadata": {
        "id": "TjLNfEu3C_L_"
      },
      "execution_count": null,
      "outputs": []
    },
    {
      "cell_type": "code",
      "source": [
        "# imports the needed methods from numerical python and matplotlib library\n",
        "from numpy import loadtxt\n",
        "from matplotlib import pyplot as plt\n",
        "\n",
        "# unpacks the input size, the number of comparisons, and the elapsed time\n",
        "size, comps, etime = loadtxt(\"dataBruteForce.txt\").T\n",
        "\n",
        "from google.colab import drive\n",
        "drive.mount('/content/drive')\n",
        "\"\"\" visualization \"\"\"\n",
        "# closes all files and enables interactive plotting\n",
        "plt.close('all')\n",
        "plt.ion()\n",
        "# creates a figure and a set of axes\n",
        "fig, ax = plt.subplots()\n",
        "# computes scaling constants to improve presentation\n",
        "c1 = (size**2).mean() / comps.mean()\n",
        "c2 = (size**2).mean() / etime.mean()\n",
        "# plots the expected (theoretical) time as a function of size\n",
        "ax.loglog(size, size**2,    color='black', linestyle='--',\n",
        "          label='quadratic')\n",
        "# plots the elapsed time as a function of size\n",
        "ax.loglog(size, etime*c2, color='black',  linestyle='', marker='o',\n",
        "          markersize=12, label='elapsed-time')\n",
        "# plots the number of comparisons as a function of size\n",
        "ax.loglog(size, comps*c1, color='red',   linestyle='', marker='*',\n",
        "          markersize=12, label='comparisons')\n",
        "ax.set_xlabel('input size, N')\n",
        "ax.set_ylabel('time, t')\n",
        "ax.set_title('Brute Force')\n",
        "ax.legend()\n",
        "# exports the figure in PNG with a resolution of 600 DPI\n",
        "fig.savefig(\"BruteForce.png\", dpi=600)\n"
      ],
      "metadata": {
        "id": "b9v8U7G1LzOf"
      },
      "execution_count": null,
      "outputs": []
    }
  ]
}